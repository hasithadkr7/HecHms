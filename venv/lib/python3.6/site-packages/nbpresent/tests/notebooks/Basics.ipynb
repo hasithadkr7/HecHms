{
 "cells": [
  {
   "cell_type": "markdown",
   "metadata": {
    "nbpresent": {
     "id": "de566bfa-fd53-40c4-beb7-58c0bfbd0fe2"
    }
   },
   "source": [
    "# Märkdöwn"
   ]
  },
  {
   "cell_type": "code",
   "execution_count": 1,
   "metadata": {
    "collapsed": false,
    "nbpresent": {
     "id": "9b1f4c93-2db9-4ab5-9b89-88c37de51214"
    }
   },
   "outputs": [
    {
     "name": "stdout",
     "output_type": "stream",
     "text": [
      "Hello World!\n"
     ]
    }
   ],
   "source": [
    "# code\n",
    "print(\"Hellö Wörld!\")"
   ]
  },
  {
   "cell_type": "code",
   "execution_count": 7,
   "metadata": {
    "collapsed": true
   },
   "outputs": [],
   "source": [
    "from IPython import display\n",
    "import jinja2"
   ]
  },
  {
   "cell_type": "code",
   "execution_count": 38,
   "metadata": {
    "collapsed": false,
    "nbpresent": {
     "id": "81f505c0-8ea5-4e2c-bc4e-16780bb1a5a3"
    }
   },
   "outputs": [
    {
     "data": {
      "image/svg+xml": [
       "<svg height=\"40\" width=\"200\">\n",
       "    \n",
       "        <circle cx=\"11\" cy=\"5\" fill=\"red\" r=\"5\"/>\n",
       "    \n",
       "        <circle cx=\"22\" cy=\"5\" fill=\"red\" r=\"5\"/>\n",
       "    \n",
       "        <circle cx=\"33\" cy=\"5\" fill=\"red\" r=\"5\"/>\n",
       "    \n",
       "        <circle cx=\"44\" cy=\"5\" fill=\"red\" r=\"5\"/>\n",
       "    \n",
       "        <circle cx=\"55\" cy=\"5\" fill=\"red\" r=\"5\"/>\n",
       "    \n",
       "        <circle cx=\"66\" cy=\"5\" fill=\"red\" r=\"5\"/>\n",
       "    \n",
       "        <circle cx=\"77\" cy=\"5\" fill=\"red\" r=\"5\"/>\n",
       "    \n",
       "        <circle cx=\"88\" cy=\"5\" fill=\"red\" r=\"5\"/>\n",
       "    \n",
       "        <circle cx=\"99\" cy=\"5\" fill=\"red\" r=\"5\"/>\n",
       "    \n",
       "        <circle cx=\"110\" cy=\"5\" fill=\"red\" r=\"5\"/>\n",
       "    \n",
       "    <text y=\"24\">This is an SVG</text>\n",
       "</svg>"
      ],
      "text/plain": [
       "<IPython.core.display.SVG object>"
      ]
     },
     "execution_count": 38,
     "metadata": {},
     "output_type": "execute_result"
    }
   ],
   "source": [
    "display.SVG(\n",
    "    data=jinja2.Template(\"\"\"\n",
    "<svg height=\"40\" width=\"200\">\n",
    "    {% for c in circles %}\n",
    "        <circle r=\"5\" cx=\"{{ (c + 1) * 11}}\" cy=\"5\" fill=\"red\"/>\n",
    "    {% endfor %}\n",
    "    <text y=\"24\">This is an SVG</text>\n",
    "</svg>\"\"\").render(circles=range(10))\n",
    ")"
   ]
  },
  {
   "cell_type": "code",
   "execution_count": 43,
   "metadata": {
    "collapsed": true
   },
   "outputs": [],
   "source": [
    "import matplotlib.pyplot as plt\n",
    "import numpy as np"
   ]
  },
  {
   "cell_type": "code",
   "execution_count": 44,
   "metadata": {
    "collapsed": true
   },
   "outputs": [],
   "source": [
    "%matplotlib inline"
   ]
  },
  {
   "cell_type": "code",
   "execution_count": 45,
   "metadata": {
    "collapsed": false,
    "nbpresent": {
     "id": "38b09402-53ec-4dca-bb61-e1b15bf39675"
    }
   },
   "outputs": [
    {
     "data": {
      "image/png": "[encoded data removed]",
      "text/plain": [
       "<matplotlib.figure.Figure at 0x107ed2f98>"
      ]
     },
     "metadata": {},
     "output_type": "display_data"
    }
   ],
   "source": [
    "x = np.array(range(-100, 100))/100\n",
    "y = np.sin((0.1 * x)**1)\n",
    "plt.figure(figsize=(16,9))\n",
    "plt.plot(x, y)\n",
    "plt.show()"
   ]
  }
 ],
 "metadata": {
  "kernelspec": {
   "display_name": "Python 3",
   "language": "python",
   "name": "python3"
  },
  "language_info": {
   "codemirror_mode": {
    "name": "ipython",
    "version": 3
   },
   "file_extension": ".py",
   "mimetype": "text/x-python",
   "name": "python",
   "nbconvert_exporter": "python",
   "pygments_lexer": "ipython3",
   "version": "3.5.1"
  },
  "nbpresent": {
   "slides": {
    "aa8d067c-88e6-400e-85d1-673eb2f2ffbe": {
     "id": "aa8d067c-88e6-400e-85d1-673eb2f2ffbe",
     "prev": "f9ecb956-c067-4625-bd57-0ffa7dcaa03d",
     "regions": {
      "fedc39e2-b86d-41d6-a593-414000876181": {
       "attrs": {
        "height": 0.8,
        "width": 0.8,
        "x": 0.1,
        "y": 0.1
       },
       "content": {
        "cell": "38b09402-53ec-4dca-bb61-e1b15bf39675",
        "part": "outputs"
       },
       "id": "fedc39e2-b86d-41d6-a593-414000876181"
      }
     }
    },
    "f9ecb956-c067-4625-bd57-0ffa7dcaa03d": {
     "id": "f9ecb956-c067-4625-bd57-0ffa7dcaa03d",
     "prev": null,
     "regions": {
      "23cdb071-07bd-4ab7-93cf-1963ef9b9cbb": {
       "attrs": {
        "height": 0.4,
        "width": 0.4,
        "x": 0.5,
        "y": 0.1
       },
       "content": {
        "cell": "9b1f4c93-2db9-4ab5-9b89-88c37de51214",
        "part": "source"
       },
       "id": "23cdb071-07bd-4ab7-93cf-1963ef9b9cbb"
      },
      "287be842-fc0b-4b04-a461-9650bebf471c": {
       "attrs": {
        "height": 0.4,
        "width": 0.4,
        "x": 0.1,
        "y": 0.5
       },
       "content": {
        "cell": "81f505c0-8ea5-4e2c-bc4e-16780bb1a5a3",
        "part": "outputs"
       },
       "id": "287be842-fc0b-4b04-a461-9650bebf471c"
      },
      "29f13822-547d-470a-b0f0-8bb0c90e5d6a": {
       "attrs": {
        "height": 0.4,
        "width": 0.4,
        "x": 0.5,
        "y": 0.5
       },
       "content": {
        "cell": "9b1f4c93-2db9-4ab5-9b89-88c37de51214",
        "part": "outputs"
       },
       "id": "29f13822-547d-470a-b0f0-8bb0c90e5d6a"
      },
      "df7b6e41-e69c-483a-8245-6f41d15ccfe7": {
       "attrs": {
        "height": 0.4,
        "width": 0.4,
        "x": 0.1,
        "y": 0.1
       },
       "content": {
        "cell": "de566bfa-fd53-40c4-beb7-58c0bfbd0fe2",
        "part": "source"
       },
       "id": "df7b6e41-e69c-483a-8245-6f41d15ccfe7"
      }
     }
    }
   }
  }
 },
 "nbformat": 4,
 "nbformat_minor": 0
}
